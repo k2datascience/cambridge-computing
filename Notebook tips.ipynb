{
  "cells": [
    {
      "metadata": {},
      "cell_type": "markdown",
      "source": "# IPython magic commands\n\nWhen using Python with Jupyter, we are actually using the *IPython kernel* to run code. [IPython](https://ipython.org/) has what are known as *magic commands* that help us interact with Jupyter. \nMagic commands are prefixed by '`%`'.\nMagic commands are *not* part of the Python language; they are specific to IPython. In a plain Python program, magic commands would not be recognised and would lead to an error.\n\nWe summarise below the magic functions that are used in the Activity notebooks.\nThe full documentation for IPython magic commands is available [here](http://ipython.readthedocs.io/en/stable/interactive/magics.html)."
    },
    {
      "metadata": {},
      "cell_type": "markdown",
      "source": "## Matplotlib\n\nTo display plots inline in a notebook, we use the magic command:"
    },
    {
      "metadata": {
        "trusted": true
      },
      "cell_type": "code",
      "source": "%matplotlib inline",
      "execution_count": 1,
      "outputs": []
    },
    {
      "metadata": {},
      "cell_type": "markdown",
      "source": "The full documentation for Matplotlib magic functions is [here](http://ipython.readthedocs.io/en/stable/interactive/magics.html#magic-matplotlib)."
    },
    {
      "metadata": {},
      "cell_type": "markdown",
      "source": "## Timing programs\n\nWe can use magic commands to time our programs. This is particularly useful when investigating the performance of\ndifferent implementations."
    },
    {
      "metadata": {},
      "cell_type": "markdown",
      "source": "### Simple timing\n\nThe magic command [`%time`](http://ipython.readthedocs.io/en/stable/interactive/magics.html?highlight=timeit#magic-time) is used to time parts of a program.\nWe just add\n```python\n%time\n```\nin front of the function call we wish to time, and the time taken will be displayed. Below is an example:"
    },
    {
      "metadata": {
        "trusted": true
      },
      "cell_type": "code",
      "source": "def f(x):\n    s = \"\"\n    for i in range(x):\n        s += \" \"\n    return s\n\n%time p = f(100000)",
      "execution_count": 2,
      "outputs": [
        {
          "output_type": "stream",
          "text": "CPU times: user 11.8 ms, sys: 298 µs, total: 12.1 ms\nWall time: 11.8 ms\n",
          "name": "stdout"
        }
      ]
    },
    {
      "metadata": {},
      "cell_type": "markdown",
      "source": "Usually we are interested in the '`Wall time`', which is the real (wall clock) time elapsed \nto run the function."
    },
    {
      "metadata": {},
      "cell_type": "markdown",
      "source": "### Detailed timing\n\nSometimes we want to get the time as a variable, for example to produce a plot of time versus problem size.\nIn this case we use [`%timeit`](http://ipython.readthedocs.io/en/stable/interactive/magics.html?highlight=timeit#magic-timeit).\n\n`%timeit` has a number of options, including:\n\n- `-o`: Return a `TimeitResult` variable that we can query\n- `-q`: Quiet (supress output) \n- `-n`: Number of times to run code\n- `-r`: How many times to run `timeit`\n\nThe return value can be queried in several ways. Below are examples."
    },
    {
      "metadata": {
        "trusted": true
      },
      "cell_type": "code",
      "source": "# Problem size to test\nN = 1000000\n\n# Time the command 'p = f(N)' once, suppressing output (-q).\nt = %timeit -o -n1 -r1 -q p = f(N)\n\n# Get best (only) timing\nprint(\"Best time: {}\".format(t.best))\n\n# Time the command 'p = f(N)' twice, calling three times each (not quiet)\nt = %timeit -o -n3 -r2 p = f(N)\n\n# Get results of all runs as a list (length will be 2 since we used -r2)\nprint(\"Time for all runs: {}\".format(t.all_runs))\n\n# Best time will be 1/3 (since we used of lowest value in t.all_runs\nprint(\"Time for best runs: {}\".format(t.best))",
      "execution_count": 3,
      "outputs": [
        {
          "output_type": "stream",
          "text": "Best time: 0.11659420000069076\n114 ms ± 1.25 ms per loop (mean ± std. dev. of 2 runs, 3 loops each)\nTime for all runs: [0.34532300000137184, 0.33784600000217324]\nTime for best runs: 0.11261533333405775\n",
          "name": "stdout"
        }
      ]
    }
  ],
  "metadata": {
    "kernelspec": {
      "name": "python3",
      "display_name": "Python 3",
      "language": "python"
    },
    "language_info": {
      "mimetype": "text/x-python",
      "nbconvert_exporter": "python",
      "name": "python",
      "file_extension": ".py",
      "version": "3.5.4",
      "pygments_lexer": "ipython3",
      "codemirror_mode": {
        "version": 3,
        "name": "ipython"
      }
    }
  },
  "nbformat": 4,
  "nbformat_minor": 1
}