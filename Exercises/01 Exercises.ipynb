{
  "cells": [
    {
      "metadata": {},
      "cell_type": "markdown",
      "source": "## Exercise 01.1\n\nDegrees Fahrenheit ($T_F$) are converted to degrees Celsius ($T_c$) using the formula:\n\n$$\nT_c = 5(T_f - 32)/9\n$$\n\nWrite a program to convert 78 degrees Fahrenheit to degrees Celsius and print the result.\nWrite your program such that you can easily change the temperature in Fahrenheit that you are converting from.\n\nUse the variable name `T_c` for the temperature in degrees Celsius."
    },
    {
      "metadata": {
        "deletable": false,
        "nbgrader": {
          "checksum": "9aad06999d15d78fbcee70dcbca838c7",
          "grade": false,
          "grade_id": "cell-ca2d6af7fabf2918",
          "locked": false,
          "schema_version": 1,
          "solution": true
        },
        "trusted": false
      },
      "cell_type": "code",
      "source": "T_f = 78\n# YOUR CODE HERE\nraise NotImplementedError()",
      "execution_count": null,
      "outputs": []
    },
    {
      "metadata": {
        "deletable": false,
        "editable": false,
        "nbgrader": {
          "checksum": "298ddee2ca0d1dd09bc995505dac5c63",
          "grade": true,
          "grade_id": "cell-a7542313c8cdf4ed",
          "locked": true,
          "points": 0,
          "schema_version": 1,
          "solution": false
        },
        "trusted": false
      },
      "cell_type": "code",
      "source": "assert round(T_c - 25.55555555555555, 10) == 0.0",
      "execution_count": null,
      "outputs": []
    },
    {
      "metadata": {},
      "cell_type": "markdown",
      "source": "## Exercise 01.2\n\nYou have been tasked with developing a mortgage affordability test tool. A component is to compute the monthly \ninterest payments for a range of scenarios.\n\nInterest on a particular mortgage is charged at fixed rate above the Bank of England (BoE) 'official Bank Rate'. \nInterest is computed per annum, and interest payments spread equally over each month of the year.\nWrite a program that computes the interest payable each month, with variables for:\n\n1. Loan principal (amount borrowed)\n1. Official Bank Rate (percentage, expressed per annum)\n1. Rate over the official Bank Rate (percentage, expressed per annum)\n\nTest your program with a loan principal of £150,000, BoE rate of 0.5%, and rate over the \nBoE rate of 1.49%. Use the variable name `interest` for the monthly interest amount."
    },
    {
      "metadata": {
        "deletable": false,
        "nbgrader": {
          "checksum": "c26b7adb39cb9665b26873573b1f0a6c",
          "grade": false,
          "grade_id": "cell-aaab53918bb9627d",
          "locked": false,
          "schema_version": 1,
          "solution": true
        },
        "trusted": false
      },
      "cell_type": "code",
      "source": "# Assign data to variables\nprincipal = 150000\n\n# YOUR CODE HERE\nraise NotImplementedError()",
      "execution_count": null,
      "outputs": []
    },
    {
      "metadata": {
        "deletable": false,
        "editable": false,
        "nbgrader": {
          "checksum": "d01c1d6775e975163ba8b456945ee4bc",
          "grade": true,
          "grade_id": "cell-258e3a2c80f6a765",
          "locked": true,
          "points": 0,
          "schema_version": 1,
          "solution": false
        },
        "trusted": false
      },
      "cell_type": "code",
      "source": "assert round(interest - 248.75, 10) == 0.0",
      "execution_count": null,
      "outputs": []
    }
  ],
  "metadata": {
    "kernelspec": {
      "name": "python3",
      "display_name": "Python 3",
      "language": "python"
    },
    "language_info": {
      "mimetype": "text/x-python",
      "nbconvert_exporter": "python",
      "name": "python",
      "pygments_lexer": "ipython3",
      "version": "3.5.4",
      "file_extension": ".py",
      "codemirror_mode": {
        "version": 3,
        "name": "ipython"
      }
    }
  },
  "nbformat": 4,
  "nbformat_minor": 2
}