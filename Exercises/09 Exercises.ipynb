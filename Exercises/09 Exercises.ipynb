{
 "cells": [
  {
   "cell_type": "markdown",
   "metadata": {},
   "source": [
    "## Exercise 09.1 (checking data validity)\n",
    "\n",
    "The Fibonacci series is valid only for $n \\ge 0$. Add to the Fibonacci function in this notebook a check that raises an exception if $n < 0$. Try some invalid data cases to check that an exception is raised.\n",
    "\n",
    "*Optional:* Use `pytest` to test that an exception *is* raised for some $n < 0$ cases."
   ]
  },
  {
   "cell_type": "code",
   "execution_count": null,
   "metadata": {
    "deletable": false,
    "nbgrader": {
     "checksum": "3bf4474f254eb94df13368bcbdfbbd25",
     "grade": false,
     "grade_id": "cell-982c3611466532a2",
     "locked": false,
     "schema_version": 1,
     "solution": true
    }
   },
   "outputs": [],
   "source": [
    "def f(n): \n",
    "    \"Compute the nth Fibonacci number using recursion\"\n",
    "    # YOUR CODE HERE\n",
    "    raise NotImplementedError()"
   ]
  },
  {
   "cell_type": "code",
   "execution_count": null,
   "metadata": {
    "deletable": false,
    "editable": false,
    "nbgrader": {
     "checksum": "9f9ac524212d33e97978ac73892d6d39",
     "grade": true,
     "grade_id": "cell-9b97ea3e85d77f4a",
     "locked": true,
     "points": 0,
     "schema_version": 1,
     "solution": false
    }
   },
   "outputs": [],
   "source": [
    "# Perform some tests    \n",
    "assert f(0) == 0\n",
    "assert f(1) == 1\n",
    "assert f(2) == 1\n",
    "assert f(3) == 2\n",
    "assert f(10) == 55\n",
    "assert f(15) == 610\n",
    "\n",
    "# Check that ValueError is raised for n < 0\n",
    "import pytest\n",
    "with pytest.raises(ValueError):\n",
    "    f(-1)\n",
    "with pytest.raises(ValueError):\n",
    "    f(-2)"
   ]
  },
  {
   "cell_type": "markdown",
   "metadata": {
    "deletable": false,
    "editable": false,
    "nbgrader": {
     "checksum": "e95262d50b5fedef7da21e1741ff513d",
     "grade": false,
     "grade_id": "cell-69c78c0ffc19db36",
     "locked": true,
     "schema_version": 1,
     "solution": false
    }
   },
   "source": [
    "## Exercise 09.2 (raising exceptions)\n",
    "\n",
    "Modify your program from the bisection exercise in Activity 04 to raise an error if the maximum number of iterations is exceeded. Reduce the maximum allowed iterations to test that an exception is raised.\n",
    "\n",
    "Add any other checks on the input data that you think are appropriate."
   ]
  },
  {
   "cell_type": "code",
   "execution_count": null,
   "metadata": {
    "deletable": false,
    "nbgrader": {
     "checksum": "54a2b2c493794b64ac8c709d3b554426",
     "grade": false,
     "grade_id": "cell-ca2c3ee62ad3b956",
     "locked": false,
     "schema_version": 1,
     "solution": true
    }
   },
   "outputs": [],
   "source": [
    "def my_f(x):\n",
    "    \"Evaluate polynomial function\"\n",
    "    return x**3 - 6*x**2 + 4*x + 12\n",
    "\n",
    "def compute_root(f, x0, x1, tol, max_it):\n",
    "    # YOUR CODE HERE\n",
    "    raise NotImplementedError()"
   ]
  },
  {
   "cell_type": "code",
   "execution_count": null,
   "metadata": {
    "deletable": false,
    "editable": false,
    "nbgrader": {
     "checksum": "245f74804add47d7a569230c5677fb0a",
     "grade": true,
     "grade_id": "cell-f6cf91ed5dd1736b",
     "locked": true,
     "points": 0,
     "schema_version": 1,
     "solution": false
    }
   },
   "outputs": [],
   "source": [
    "# Test with max_it = 30\n",
    "x, f, num_it = compute_root(my_f, x0=3, x1=6, tol=1.0e-6, max_it=30)\n",
    "\n",
    "# Test with max_it = 20\n",
    "with pytest.raises(RuntimeError):\n",
    "    x, f, num_it = compute_root(my_f, x0=3, x1=6, tol=1.0e-6, max_it=20)"
   ]
  }
 ],
 "metadata": {
  "kernelspec": {
   "display_name": "Python 3",
   "language": "python",
   "name": "python3"
  },
  "language_info": {
   "codemirror_mode": {
    "name": "ipython",
    "version": 3
   },
   "file_extension": ".py",
   "mimetype": "text/x-python",
   "name": "python",
   "nbconvert_exporter": "python",
   "pygments_lexer": "ipython3",
   "version": "3.6.6"
  }
 },
 "nbformat": 4,
 "nbformat_minor": 1
}
