{
  "cells": [
    {
      "metadata": {},
      "cell_type": "markdown",
      "source": "# Part IA Michaelmas Term computing\n\nThis is the introductory notebook for Michaelmas Term computing at the Department of Engineering at University of Cambridge. \n\nThe course is for first year students in their first term, and does not assume any prior computing experience. It does assume a level of mathematical knowledge."
    },
    {
      "metadata": {},
      "cell_type": "markdown",
      "source": "# Structure\n\nComputing is best learned by doing, and seeking help when you need it. This course involves 12 self-study, interactive Jupyter notebook 'activities', with exercises at the end of each\nactivity. The activity notebooks cover:\n\n1. [Variables, assignment and operator precedence](01%20Variables,%20assignment%20and%20operator%20precedence.ipynb)\n1. [Control statements](02%20Control%20statements.ipynb)\n1. [Types, type conversions and floating point arithmetic](03%20Types,%20type%20conversions%20and%20floating%20point%20arithmetic.ipynb)\n1. [Functions](04%20Functions.ipynb)\n1. [Library functions](05%20Library%20functions.ipynb)\n1. [Data structures](06%20Data%20structures.ipynb)\n1. [Numerical computation](07%20Numerical%20computation.ipynb)\n1. [Plotting](08%20Plotting.ipynb)\n1. [Error handling and testing](09%20Error%20handling%20and%20testing.ipynb)\n1. [Algorithms](10%20Algorithms.ipynb)\n1. [Complexity](11%20Complexity.ipynb)\n1. [Object-oriented design](12%20Object-oriented%20design.ipynb)\n\nThe notebooks are designed to be completed in order. To complete an activity:\n\n1. Read through a notebook, and change parts of the programs if you want to experiment with what \n   happens - this will help your understanding. \n1. Complete the exercises for the notebook before moving onto the next activity.\n\nAs you move through the activities you might need to revise some of the earlier notebooks."
    },
    {
      "metadata": {},
      "cell_type": "markdown",
      "source": "# Completing exercises\n\nExercises for each notebook are in the [Exercises](Exercises/) directory.\n\n- Use Markdown cells, and where appropriate add equations using LaTeX, to describe what your program is doing.\n- For longer exercises, you may want to break your program into multiple cells, with descriptions in \n  Markdown before cells with code.\n- Most exercises include some automated testing to provide feedback on the correctness of \n  your implementations. You are not expected to understand the test syntax to start.   \n  \nYou are required to present your exercise solutions at a marking session. Check the lab rota for your timetabled marking slot."
    },
    {
      "metadata": {},
      "cell_type": "markdown",
      "source": "# Getting help\n\nThe best resource is the Internet. For Cambridge students there is also:\n\n1. The help forum at https://www.allanswered.com/community/s/cued-part-ia-computing/.\n   \n   This should be the first place you look for help - at any time \n   of the day or night. Check first if your question has already\n   been asked and answered, and if not post a new question. Follow the forum guidelines \n   on how to ask a question.\n   \n2. Help Desk in the DPO"
    },
    {
      "metadata": {},
      "cell_type": "markdown",
      "source": "## Providing help\n\nPlease help out by answering questions on the AllAnswered forum. Helping each other is encouraged - if you receive help make sure that you do understand what you have done."
    },
    {
      "metadata": {},
      "cell_type": "markdown",
      "source": "# Jupyter notebooks\n\nThis is a Jupyter Notebook. We will be computing using Jupyter Notebooks (https://jupyter.org/) and \nthe programming language Python (https://www.python.org/).\nJupyter Notebooks  provide an interactive environment where you can mix text, equations, programming\nand visual outputs. This is new technology that is increasingly widely used, and it is all open-source. \nYou will find Jupyter Notebooks useful throughout the course."
    },
    {
      "metadata": {},
      "cell_type": "markdown",
      "source": "## Using notebooks\n\nSee the notebook [Using notebooks](Using%20notebooks.ipynb) for guidence."
    },
    {
      "metadata": {},
      "cell_type": "markdown",
      "source": "## Running notebooks\n\n### Azure notebook service\n\nUsing the Jupyter service hosted at https://notebooks.azure.com/ is recommended. Log in using your CRSid.\n\n### Running locally\n\nJupyter can be run locally. If you choose to do so, the [Anaconda](https://www.anaconda.com/download) distribution is recommended. Be sure to download the Python 3 version. Anaconda is also installed in the DPO."
    },
    {
      "metadata": {},
      "cell_type": "markdown",
      "source": "## Python version\n\nWe will be using exclusively Python 3. There are some subtle differences between Python 2 and Python 3. Bear this in mind if using a book or searching online. Most books still use Python 2 syntax."
    },
    {
      "metadata": {},
      "cell_type": "markdown",
      "source": "# Other resources\n\nThere are many online resources for learning computing, Python, and on using Jupyter notebooks.\nA search engine is the best way to find relevant material. Remember that we are using\nPython 3 and not Python 2 - you might want to add 'python 3' to any search query.\n\nA useful resource for beginners is https://www.codecademy.com/learn/python."
    }
  ],
  "metadata": {
    "kernelspec": {
      "name": "python3",
      "display_name": "Python 3",
      "language": "python"
    },
    "language_info": {
      "mimetype": "text/x-python",
      "nbconvert_exporter": "python",
      "name": "python",
      "file_extension": ".py",
      "version": "3.5.4",
      "pygments_lexer": "ipython3",
      "codemirror_mode": {
        "version": 3,
        "name": "ipython"
      }
    }
  },
  "nbformat": 4,
  "nbformat_minor": 1
}