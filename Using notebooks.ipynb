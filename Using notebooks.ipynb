{
  "cells": [
    {
      "metadata": {},
      "cell_type": "markdown",
      "source": "# Juyter notebooks\n\nThis is a *Jupyter notebook*. We will be computing using Jupyter notebooks (https://jupyter.org/) and \nthe programming language *Python* (https://www.python.org/).\nJupyter notebooks provide an interactive environment where you can mix text, equations, computer code\nand visual outputs. This is new technology that is increasingly widely used, and it is all free and open-source."
    },
    {
      "metadata": {},
      "cell_type": "markdown",
      "source": "# Using the Azure notebook service\n\nThe Azure notebook service provides a cloud-based Jupyter notebook environment at https://notebooks.azure.com/. \nYou can log in with your CRSid."
    },
    {
      "metadata": {},
      "cell_type": "markdown",
      "source": "## Running and viewing the course material\n\nThere are 12 notebook activities for this course, plus some other helper notebooks (including this one), arranged in a library.\n\n- Click on a notebook to view it.\n\n- Click 'Clone' to get your own, runnable and editable copy of the library. If you are not logged in you will be \n  prompted to log in. Use your CRSid.\n  \n  Experiment freely with your clone of the activity notebooks - you can always return to the master version.\n\nOnce you have your own version of the notebooks, open a notebook and run it \nvia the menu bar with  `Kernel -> Restart & Run All`. Try making an edit and then run the notebook again to see\nyour change."
    },
    {
      "metadata": {},
      "cell_type": "markdown",
      "source": "## Creating your own notebooks\n\nTo create your own notebooks:\n\n1. Log in at https://notebooks.azure.com/.\n1. Go to 'Libraries' (top left of the page).\n1. Click 'New Library' to create a library (give it a suitable name, e.g. 'IA exercises').\n1. You should now be in your new library. Click 'Open in Jupyter' 'to get a Jupyter environment.\n1. At the top-right of the page, click `New -> Python 3`. You will now have a new notebook, and you're\n   ready to start working.\n\nBy default, the name of your new notebook will be 'Untitled'. Click on 'Untitled' to give your notebook\nand different name, e.g. 'Activity 02 exercises'. \n\nYou can return to https://notebooks.azure.com/ at any time, and go to 'Libraries' to see your collection\nof notebook libraries.\n\nIt would be a good idea to periodically download your notebooks for safe keeping."
    },
    {
      "metadata": {},
      "cell_type": "markdown",
      "source": "# Editing and running notebooks\n\nJupyter notebooks have *text* cells and *code* cells. If you double-click on part of a notebook\nin a Jupyter environment (see above for creating a Jupyter environment on Azure), the cell\nwill become editable. You will see in the menu bar whether it is a text cell ('Markdown') or a code cell ('Code').\nYou can use the drop-down box at the top of a notebook to change the cell type.\nYou can use `Insert` from the menu bar to insert a new cell.\n\nThe current cell can be 'run' using `shift-return` (the current cell is highlighted by a bar on the left-hand\nside of the page). When run, a text cell will be typeset, and the code in a 'code cell' will be executed. \nAny output from a code cell will appear below the code.\n\nOften you will want to run all cells from the start of a notebook. You can do this with `Kernel -> Restart & Run All` from the notebook menu bar. In this case the cells are executed in order (first through to last).\n\nBelow is a code cell:"
    },
    {
      "metadata": {
        "trusted": true
      },
      "cell_type": "code",
      "source": "print(3 + 4)",
      "execution_count": 1,
      "outputs": [
        {
          "output_type": "stream",
          "text": "7\n",
          "name": "stdout"
        }
      ]
    },
    {
      "metadata": {},
      "cell_type": "markdown",
      "source": "# Formatting text cells\n\nText cells are formatted using *Markdown*, and using *LaTeX* syntax for mathematics.\nMake extensive use of text cells to explain what your program does, and how it does it.\nUse mathematical typesetting to express yourself mathematically."
    },
    {
      "metadata": {},
      "cell_type": "markdown",
      "source": "##  Markdown\n\nYou can find all the details in the [Jupyter Markdown documentation](http://jupyter-notebook.readthedocs.io/en/latest/examples/Notebook/Working%20With%20Markdown%20Cells.html).\nBelow is a brief summary."
    },
    {
      "metadata": {},
      "cell_type": "markdown",
      "source": "### Headings \n\nUsing Markdown, headings are indicated by '`#`':\n```\n# Top level heading\n## Second level heading\n### Third level heading\n```"
    },
    {
      "metadata": {},
      "cell_type": "markdown",
      "source": "### Text style\n\nThe Markdown input\n```\nOpening passage\n\n`A passage of text`\n\n*Some more text*\n\n**Yet more text**\n\n```\n\nappears as:\n\n\nOpening passage\n\n`A passage of text`\n\n*Some more text*\n\n**Yet more text**"
    },
    {
      "metadata": {},
      "cell_type": "markdown",
      "source": "### Lists\n\nYou can create bulleted lists using:\n```\n- Option A\n- Option B\n```\nto show\n- Option A\n- Option B\n\nand enumerated lists using\n```\n1. Old approach\n1. New approach\n```\nto show\n1. Old approach\n1. New approach\n\nMarkdown resolves the list number for you."
    },
    {
      "metadata": {},
      "cell_type": "markdown",
      "source": "### Code\n\nCode can be typeset using:\n\n    ```python\n    def f(x):\n        return x*x\n    ```\n\nwhich produces\n\n```python\ndef f(x):\n    return x*x\n```"
    },
    {
      "metadata": {},
      "cell_type": "markdown",
      "source": "You can include images in Jupyter notebooks - see [Jupyter Markdown documentation](http://jupyter-notebook.readthedocs.io/en/latest/examples/Notebook/Working%20With%20Markdown%20Cells.html)."
    },
    {
      "metadata": {},
      "cell_type": "markdown",
      "source": "## LaTeX\n\nMarkdown cells support [LaTeX](https://www.latex-project.org/) syntax for typesetting mathematics. LaTeX is the leading tool for technical documents and presenting mathematics, and it is free.\n\n> Learning LaTeX now is a good investment for later in the Tripos. You might want to try https://www.overleaf.com/ for an online LaTeX environment. \n\nTo typeset an inline equation, use:\n```\nThe term of interest in this case is $\\exp(-2x) \\sin(3 x^{4})$.\n```\nwhich will appear as:\n\n'The term of interest in this case is $\\exp(-2x) \\sin(\\alpha x^{4})$.'\n\nFor a displayed equation, from\n```\nWe wish to evaluate\n\n$$\nf(x) = \\beta x^{3} \\int_{0}^{2} g(x) \\, dx\n$$\n\nwhen $\\beta = 4$.\n```\nwe get:\n\n'We wish to evaluate\n\n$$\nf(x) = \\beta x^{3} \\int_{0}^{2} g(x) \\, dx\n$$\n\nwhen $\\beta = 4$.'\n\nSearch online to learn the LaTeX commands for different mathematical symbols. If \nyou see an example of mathematical typesetting in a notebook, you can also double-click \nit in a Jupyter environment\nto see the syntax. There\nare lots of examples at https://notebooks.azure.com/library/1A-maths."
    },
    {
      "metadata": {
        "collapsed": true
      },
      "cell_type": "markdown",
      "source": "# Running Jupyter locally (optional)\n\n\nSee [here](00%20Part%20IA%20Michaelmas%20Term%20computing.ipynb#Running-locally) for suggestions on running\nJupyter locally."
    }
  ],
  "metadata": {
    "kernelspec": {
      "name": "python3",
      "display_name": "Python 3",
      "language": "python"
    },
    "language_info": {
      "mimetype": "text/x-python",
      "nbconvert_exporter": "python",
      "name": "python",
      "file_extension": ".py",
      "version": "3.5.4",
      "pygments_lexer": "ipython3",
      "codemirror_mode": {
        "version": 3,
        "name": "ipython"
      }
    }
  },
  "nbformat": 4,
  "nbformat_minor": 1
}