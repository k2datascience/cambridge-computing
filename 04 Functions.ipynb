{
  "cells": [
    {
      "metadata": {},
      "cell_type": "markdown",
      "source": "# Introduction\n\nFunctions are one of the most important concepts in computing.  Similar to mathematical functions, they take input data and return an output(s). Functions are ideal for repetitive tasks that perform a particular operation\non different input data and return a result. A simple function might take the coordinates of the vertices of a triangle and return the area. Any non-trivial program will use functions, and in many cases will have many functions.\n\n\n## Objectives\n\n- Introduce construction and use of user functions\n- Returning from functions\n- Default arguments\n- Recursion"
    },
    {
      "metadata": {},
      "cell_type": "markdown",
      "source": "# What is a function?\n\nBelow is a Python function that takes two arguments (`a` and `b`), and returns `a + b + 1`:"
    },
    {
      "metadata": {
        "trusted": true
      },
      "cell_type": "code",
      "source": "def sum_and_increment(a, b):\n    \"\"\"\"Return the sum of a and b, plus 1\"\"\"\n    return a + b + 1\n\n# Call the function\nm = sum_and_increment(3, 4)\nprint(m)  # Expect 8\n\n# Call the function\nm = 10\nn = sum_and_increment(m, m)\nprint(n)  # Expect 21",
      "execution_count": 1,
      "outputs": [
        {
          "output_type": "stream",
          "text": "8\n21\n",
          "name": "stdout"
        }
      ]
    },
    {
      "metadata": {},
      "cell_type": "markdown",
      "source": "Using the above example as a model, we can examine the anatomy of a Python function.\n\n- A function is declared using `def`, followed by the function name, `sum_and_increment`, followed by the list \n  of arguments to be passed to the function between brackets, `(a, b)`, and ended with a colon:\n  ```python\n  def sum_and_increment(a, b):\n  ```\n\n- Next comes the body of the function. The first part of the body is indented four spaces. \n  Everything that makes \n  up  the body of the function is indented at least four spaces relative to `def`. \n  In Python, the first part of the body is an optional documentation string that describes in words what the   \n  function does \n  ```python  \n      \"Return the sum of a and b, plus 1\"\n  ```\n\n- It is good practice to include a 'docstring'.  What comes after the documentation string \n  is the code that the function executes. At the end of a function is usually a `return` statement; this defines   what\n  result the function should return:\n  ```python\n      return a + b + 1\n  ```\nAnything indented to the same level (or less) as `def` falls outside of the function body.\n\nMost functions will take arguments and return something, but this is not strictly required.\nBelow is an example of a function that does not take any arguments or return any variables."
    },
    {
      "metadata": {
        "trusted": true
      },
      "cell_type": "code",
      "source": "def print_message():\n    print(\"The function 'print_message' has been called.\")\n\nprint_message()",
      "execution_count": 2,
      "outputs": [
        {
          "output_type": "stream",
          "text": "The function 'print_message' has been called.\n",
          "name": "stdout"
        }
      ]
    },
    {
      "metadata": {},
      "cell_type": "markdown",
      "source": "# Purpose\n\nFunctions allow computer code to be re-used multiple times with different input data. It is good to re-use code as much as possible because we then focus testing and debugging efforts, and maybe also optimisations, on small pieces of code that are then re-used. The more code that is written, the less frequently sections of code are used, and as a consequence the greater the likelihood of errors.\n\nFunctions can also enhance the readability of a program, and make it easier to collaborate with others. Functions allow us to focus on *what* a program does at a high level \nrather than the details of *how* it does it. Low-level implementation details are *encapsulated* in functions. To understand at a high level what a program does, we usually just need to know what data is passed into a function and what the function returns. It is not necessary to know the precise details of how a function is implemented to grasp the structure of a program and how it works. For example, we might need to know that a function computes and returns $\\sin(x)$; we don't usually need to know *how* it computes sine.\n\nBelow is a simple example of a function being 'called' numerous times from inside a `for` loop."
    },
    {
      "metadata": {
        "trusted": true
      },
      "cell_type": "code",
      "source": "def process_value(x):\n    \"Return a value that depends on the input value x \"\n    if x > 10:\n        return 0\n    elif x > 5:\n        return x*x\n    elif x > 0:\n        return x**3\n    else:\n        return x\n\n    \nprint(\"Case A: 3 values\")    \nfor y in range(3):\n    print(process_value(y))\n\nprint(\"Case B: 12 values\")    \nfor y in range(12):\n    print(process_value(y))",
      "execution_count": 3,
      "outputs": [
        {
          "output_type": "stream",
          "text": "Case A: 3 values\n0\n1\n8\nCase B: 12 values\n0\n1\n8\n27\n64\n125\n36\n49\n64\n81\n100\n0\n",
          "name": "stdout"
        }
      ]
    },
    {
      "metadata": {},
      "cell_type": "markdown",
      "source": "Using a function, we did not have to duplicate the `if-elif-else` statement inside each loop\nwe re-used it.\nWith a function we only have to change the way in which we process the number `x` in one place."
    },
    {
      "metadata": {},
      "cell_type": "markdown",
      "source": "# Function arguments\n\nThe order in which function arguments are listed in the function declaration is in general the order in which arguments should be passed to a function. \n\nFor the function `sum_and_increment` that was declared above, we could switch the order of the arguments and the result would not change because we are simply summing the input arguments. But, if we were to subtract one argument from the other, the result would depend on the input order:"
    },
    {
      "metadata": {
        "trusted": true
      },
      "cell_type": "code",
      "source": "def subtract_and_increment(a, b):\n    \"Return a minus b, plus 1\"\n    return a - b + 1\n\nalpha, beta = 3, 5  # This is short hand notation for alpha = 3\n                    #                                 beta = 5\n\n# Call the function and print the return value\nprint(subtract_and_increment(alpha, beta))  # Expect -1\nprint(subtract_and_increment(beta, alpha))  # Expect 3",
      "execution_count": 4,
      "outputs": [
        {
          "output_type": "stream",
          "text": "-1\n3\n",
          "name": "stdout"
        }
      ]
    },
    {
      "metadata": {},
      "cell_type": "markdown",
      "source": "For more complicated functions we might have numerous arguments. Consequently, it becomes easier to get the wrong order by accident when calling the function (which results in a bug). In Python, we can reduce the likelihood of an error by using *named* arguments, in which case order will not matter, e.g.:"
    },
    {
      "metadata": {
        "trusted": true
      },
      "cell_type": "code",
      "source": "print(subtract_and_increment(a=alpha, b=beta))  # Expect -1\nprint(subtract_and_increment(b=beta, a=alpha))  # Expect -1",
      "execution_count": 5,
      "outputs": [
        {
          "output_type": "stream",
          "text": "-1\n-1\n",
          "name": "stdout"
        }
      ]
    },
    {
      "metadata": {},
      "cell_type": "markdown",
      "source": "Using named arguments can often enhance program readability and reduce errors."
    },
    {
      "metadata": {},
      "cell_type": "markdown",
      "source": "## What can be passed as a function argument?\n\nMany object types can be passed as arguments to functions, including other functions. Below\nis a function, `is_positive`, that checks if the value of a function $f$ evaluated at $x$ is positive:"
    },
    {
      "metadata": {
        "trusted": true
      },
      "cell_type": "code",
      "source": "def f0(x):\n    \"Compute x^2 - 1\"\n    return x*x - 1\n\n\ndef f1(x):\n    \"Compute -x^2 + 2x + 1\"\n    return -x*x + 2*x + 1\n\n\ndef is_positive(f, x):\n    \"Check if the function value f(x) is positive\"\n\n    # Evaluate the function passed into the function for the value of x \n    # passed into the function\n    if f(x) > 0:\n        return True\n    else:\n        return False\n\n    \n# Value of x for which we want to test a function sign\nx = 4.5\n\n# Test function f0\nprint(is_positive(f0, x))\n\n# Test function f1\nprint(is_positive(f1, x))",
      "execution_count": 6,
      "outputs": [
        {
          "output_type": "stream",
          "text": "True\nFalse\n",
          "name": "stdout"
        }
      ]
    },
    {
      "metadata": {},
      "cell_type": "markdown",
      "source": "## Default arguments\n\nIt can sometimes be helpful for functions to have 'default' argument values which can be overridden. In some cases it just saves the programmer effort - they can write less code. In other cases it can allow us to use a function for a wider range of problems. For example, we could use the same function for vectors of length 2 and 3 if the default value for the third component is zero.\n\nAs an example we consider the position $r$ of a particle with initial position $r_{0}$ and initial velocity $v_{0}$, and subject to an acceleration $a$. The position $r$ is given by:  \n\n$$\nr = r_0 + v_0 t + \\frac{1}{2} a t^{2}\n$$\n\nSay for a particular application the acceleration is almost always due to gravity ($g$), and $g = 9.81$ m s$^{-1}$ is sufficiently accurate in most cases. Moreover, the initial velocity is usually zero. We might therefore implement a function as:"
    },
    {
      "metadata": {
        "trusted": true
      },
      "cell_type": "code",
      "source": "def position(t, r0, v0=0.0, a=-9.81):\n    \"Compute position of an accelerating particle.\"\n    return r0 + v0*t + 0.5*a*t*t\n\n# Position after 0.2 s (t) when dropped from a height of 1 m (r0) \n# with v0=0.0 and a=-9.81\np = position(0.2, 1.0)\nprint(p)",
      "execution_count": 7,
      "outputs": [
        {
          "output_type": "stream",
          "text": "0.8038\n",
          "name": "stdout"
        }
      ]
    },
    {
      "metadata": {},
      "cell_type": "markdown",
      "source": "At the equator, the acceleration due to gravity is slightly less, and for a case where this difference is important we can call the function with the acceleration due to gravity at the equator:"
    },
    {
      "metadata": {
        "trusted": true
      },
      "cell_type": "code",
      "source": "# Position after 0.2 s (t) when dropped from a height of  1 m (r0)\np = position(0.2, 1, 0.0, -9.78)\nprint(p)",
      "execution_count": 8,
      "outputs": [
        {
          "output_type": "stream",
          "text": "0.8044\n",
          "name": "stdout"
        }
      ]
    },
    {
      "metadata": {},
      "cell_type": "markdown",
      "source": "Note that we have also passed the initial velocity - otherwise the program might assume that our acceleration was in fact the velocity. We can use the default velocity and specify the acceleration by using named arguments: "
    },
    {
      "metadata": {
        "trusted": true
      },
      "cell_type": "code",
      "source": "# Position after 0.2 s (t) when dropped from a height of  1 m (r0)\np = position(0.2, 1, a=-9.78)\nprint(p)",
      "execution_count": 9,
      "outputs": [
        {
          "output_type": "stream",
          "text": "0.8044\n",
          "name": "stdout"
        }
      ]
    },
    {
      "metadata": {},
      "cell_type": "markdown",
      "source": "# Return arguments\n\nMost functions, but not all, return data. Above are examples that return a single value (object), and one case where there is no return value. Python functions can have more than one return value. For example, we could have a function that takes three values and returns the maximum, the minimum and the mean, e.g."
    },
    {
      "metadata": {
        "trusted": true
      },
      "cell_type": "code",
      "source": "def compute_max_min_mean(x0, x1, x2):\n    \"Return maximum, minimum and mean values\"\n    \n    x_min = x0\n    if x1 < x_min:\n        x_min = x1\n    if x2 < x_min:\n        x_min = x2\n\n    x_max = x0\n    if x1 > x_max:\n        x_max = x1\n    if x2 > x_max:\n        x_max = x2\n\n    x_mean = (x0 + x1 + x2)/3    \n        \n    return x_min, x_max, x_mean\n\n\nxmin, xmax, xmean = compute_max_min_mean(0.5, 0.1, -20)\nprint(xmin, xmax, xmean)",
      "execution_count": 10,
      "outputs": [
        {
          "output_type": "stream",
          "text": "-20 0.5 -6.466666666666666\n",
          "name": "stdout"
        }
      ]
    },
    {
      "metadata": {},
      "cell_type": "markdown",
      "source": "This function works, but we will see better ways to implement the functionality using lists or tuples \nin a later notebook."
    },
    {
      "metadata": {},
      "cell_type": "markdown",
      "source": "# Scope\n\nFunctions have local scope, which means that variables that are declared inside a function are not visible outside the function. This is a very good thing - it means that we do not have to worry about variables declared inside a function unexpectedly affecting other parts of a program. Here is a simple example:"
    },
    {
      "metadata": {
        "trusted": true
      },
      "cell_type": "code",
      "source": "# Assign 10.0 to the varibale a\na = 10.0\n\n# A simple function that creates a variable 'a' and returns the value\ndef dummy():\n    c = 5\n    a = \"A simple function\"\n    return a\n\n# Call the function\nb = dummy()\n\n# Check that the function declaration of 'a' has not affected \n# the variable 'a' outside of the function\nprint(a)\n\n# This would throw an error - the variable c is not visible outside of the function\n# print(c)",
      "execution_count": 11,
      "outputs": [
        {
          "output_type": "stream",
          "text": "10.0\n",
          "name": "stdout"
        }
      ]
    },
    {
      "metadata": {},
      "cell_type": "markdown",
      "source": "The variable `a` that is declared outside of the function is unaffected by what is done inside the function.\nSimilarly, the variable `c` in the function is not 'visible' outside of the function. \n\nThere is more to scoping rules that we can skip over for now."
    },
    {
      "metadata": {},
      "cell_type": "markdown",
      "source": "# Recursion with functions\n\nA classic construction with functions is recursion, which is when a function makes calls to itself. \nRecursion can be very powerful, and sometimes also quite confusing at first. We demonstrate with a well-known example, the Fibonacci series of numbers."
    },
    {
      "metadata": {
        "collapsed": true
      },
      "cell_type": "markdown",
      "source": "## Fibonacci number\n\nThe Fibonacci series is defined recursively, i.e. the $n$th term $f_{n}$ is computed from the preceding terms $f_{n-1}$ and $f_{n-2}$:\n\n$$\nf_n = f_{n-1} + f_{n-2}\n$$\n\nfor $n > 1$, and with $f_0 = 0$ and $f_1 = 1$. "
    },
    {
      "metadata": {},
      "cell_type": "markdown",
      "source": "Below is a function that computes the $n$th number in the Fibonacci sequence using a `for` loop inside the function."
    },
    {
      "metadata": {
        "trusted": true
      },
      "cell_type": "code",
      "source": "def fib(n):\n    \"Compute the nth Fibonacci number\"\n    # Starting values for f0 and f1\n    f0, f1 = 0, 1\n\n    # Handle cases n==0 and n==1\n    if n == 0:\n        return 0\n    elif n == 1:\n        return 1\n    \n    # Start loop (from n = 2)    \n    for i in range(2, n + 1):\n        # Compute next term in sequence\n        f = f1 + f0\n\n        # Update f0 and f1    \n        f0 = f1\n        f1 = f\n\n    # Return Fibonacci number\n    return f\n\nprint(fib(10))",
      "execution_count": 12,
      "outputs": [
        {
          "output_type": "stream",
          "text": "55\n",
          "name": "stdout"
        }
      ]
    },
    {
      "metadata": {},
      "cell_type": "markdown",
      "source": "Since the Fibonacci sequence has a recursive structure, with the $n$th term computed from the $n-1$ and $n-2$ terms, we could write a function that uses this recursive structure:"
    },
    {
      "metadata": {
        "trusted": true
      },
      "cell_type": "code",
      "source": "def f(n): \n    \"Compute the nth Fibonacci number using recursion\"\n    if n == 0:\n        return 0  # This doesn't call f, so it breaks out of the recursion loop\n    elif n == 1:\n        return 1  # This doesn't call f, so it breaks out of the recursion loop\n    else:\n        return f(n - 1) + f(n - 2)  # This calls f for n-1 and n-2 (recursion), and returns the sum \n\nprint(f(10))",
      "execution_count": 13,
      "outputs": [
        {
          "output_type": "stream",
          "text": "55\n",
          "name": "stdout"
        }
      ]
    },
    {
      "metadata": {},
      "cell_type": "markdown",
      "source": "As expected (if the implementations are correct) the two implementations return the same result.\nThe recursive version is simple and has a more 'mathematical' structure. It is good that a program which performs a mathematical task closely reflects the mathematical problem. It makes it easier to comprehend at a high level what the program does.\n\nCare needs to be taken when using recursion that a program does not enter an infinite recursion loop. There must be a mechanism to 'break out' of the recursion cycle. "
    },
    {
      "metadata": {},
      "cell_type": "markdown",
      "source": "# Pass by  value, reference or object\n\n*This section is for reference and should be skipped if you are new to programming. It is not necessary for this course but may be of interest \nto those with more experience.*\n\nWhen passing something to a function, it is *passed by value*, *passed by reference*, or *passed by object*.\nThe model depends on the language.\n\nPass by value means that the version available inside the function is a copy of the value outside. \nA simple example is:"
    },
    {
      "metadata": {
        "trusted": true
      },
      "cell_type": "code",
      "source": "def mult_by_two(a):\n    a *= 2\n    print(\"Value of variable \\'a\\' inside function:\", a)\n    \na = 5\nmult_by_two(a)\nprint(\"Value of variable \\'a\\' post-function:\", a)",
      "execution_count": 14,
      "outputs": [
        {
          "output_type": "stream",
          "text": "Value of variable 'a' inside function: 10\nValue of variable 'a' post-function: 5\n",
          "name": "stdout"
        }
      ]
    },
    {
      "metadata": {},
      "cell_type": "markdown",
      "source": "Pass by reference means that the version passed into the function is modified, rather than a copy being made."
    },
    {
      "metadata": {
        "trusted": true
      },
      "cell_type": "code",
      "source": "a = [2, 3]\nmult_by_two(a)\nprint(\"Value of variable \\'a\\' post-function:\", a)",
      "execution_count": 15,
      "outputs": [
        {
          "output_type": "stream",
          "text": "Value of variable 'a' inside function: [2, 3, 2, 3]\nValue of variable 'a' post-function: [2, 3, 2, 3]\n",
          "name": "stdout"
        }
      ]
    },
    {
      "metadata": {},
      "cell_type": "markdown",
      "source": "Python uses the pass-by-object model. The apparent behaviours depends on the details of the object being passed.\nIn many cases it is clearly to return objects. "
    },
    {
      "metadata": {},
      "cell_type": "markdown",
      "source": "# Exercises\n\nComplete now the [04 Exercises](Exercises/04%20Exercises.ipynb) notebook."
    }
  ],
  "metadata": {
    "kernelspec": {
      "name": "python3",
      "display_name": "Python 3",
      "language": "python"
    },
    "language_info": {
      "mimetype": "text/x-python",
      "nbconvert_exporter": "python",
      "name": "python",
      "pygments_lexer": "ipython3",
      "version": "3.5.4",
      "file_extension": ".py",
      "codemirror_mode": {
        "version": 3,
        "name": "ipython"
      }
    }
  },
  "nbformat": 4,
  "nbformat_minor": 1
}